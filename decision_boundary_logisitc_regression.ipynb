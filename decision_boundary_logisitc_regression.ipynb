{
 "cells":[
  {
   "cell_type":"markdown",
   "source":[
    "**In this notebook we will plot the decision boundary for a logistic regression model**"
   ],
   "attachments":{
    
   },
   "metadata":{
    "datalore":{
     "node_id":"TEyvS3HKI5yRi52eNwuwQk",
     "type":"MD",
     "hide_input_from_viewers":true,
     "hide_output_from_viewers":true
    }
   }
  },
  {
   "cell_type":"code",
   "source":[
    "# let's import the required libraries\n",
    "\n",
    "import numpy as np\n",
    "from sklearn.linear_model import SGDRegressor\n",
    "from sklearn.preprocessing import StandardScaler\n",
    "import matplotlib.pyplot as plt"
   ],
   "execution_count":11,
   "outputs":[
    
   ],
   "metadata":{
    "datalore":{
     "node_id":"iHICVlymtxqUOnlgXExsLv",
     "type":"CODE",
     "hide_input_from_viewers":true,
     "hide_output_from_viewers":true
    }
   }
  },
  {
   "cell_type":"code",
   "source":[
    "# let's define the sigmoid function\n",
    "\n",
    "def sigmoid_fn(z):\n",
    "\n",
    "    g = 1\/(1+np.exp(-z))\n",
    "\n",
    "    return g"
   ],
   "execution_count":49,
   "outputs":[
    
   ],
   "metadata":{
    "datalore":{
     "node_id":"ZeQkjRnz9D9TWdgas5PPXN",
     "type":"CODE",
     "hide_input_from_viewers":true,
     "hide_output_from_viewers":true
    }
   }
  },
  {
   "cell_type":"code",
   "source":[
    "# let's define the sigmoid function prediction based on a threshold value\n",
    "\n",
    "def sigmoid_fn_pred(z):\n",
    "\n",
    "    g = 1\/(1+np.exp(-z))\n",
    "\n",
    "    threshold = 0.5  # You can adjust this threshold\n",
    "    binary_prediction = (g >= threshold).astype(int)\n",
    "    return binary_prediction"
   ],
   "execution_count":50,
   "outputs":[
    
   ],
   "metadata":{
    "datalore":{
     "node_id":"ZhpISo2VoGxARr0E6n3zw8",
     "type":"CODE",
     "hide_input_from_viewers":true,
     "hide_output_from_viewers":true
    }
   }
  },
  {
   "cell_type":"code",
   "source":[
    "# let's define our training data set\n",
    "# Sample training data (input features X_train and corresponding labels y_train)\n",
    "x_train = np.array([\n",
    "    [3.2, 1.5],\n",
    "    [2.5, 2.8],\n",
    "    [1.9, 3.1],\n",
    "    [3.6, 4.0],\n",
    "    [2.8, 1.0],\n",
    "    [2.0, 2.7]\n",
    "])\n",
    "\n",
    "y_train = np.array([0, 1, 1, 0, 1, 0])  # Binary labels: 0 (class 0) and 1 (class 1)\n",
    "\n",
    "scaler = StandardScaler()\n",
    "X_train = scaler.fit_transform(x_train)\n",
    "\n",
    "sgd = SGDRegressor(max_iter=10000, alpha=0.0001)\n",
    "\n",
    "sgd.fit(X_train, y_train)\n",
    "\n",
    "x_test = np.array([   [3.2, 1.5],\n",
    "    [2.5, 2.8],\n",
    "    [1.9, 3.1],\n",
    "    [3.6, 4.0],\n",
    "    [2.8, 1.0],\n",
    "    [2.0, 2.7]])\n",
    "\n",
    "# Scale the test data using the same scaler\n",
    "x_test = scaler.fit_transform(x_test)\n",
    "\n",
    "y_pred = sgd.predict(x_test)\n",
    "\n",
    "print(f\"Weight used is: {sgd.coef_}\")\n",
    "print(f\"Bias used is: {sgd.intercept_}\")\n",
    "print(f\"Predicted value is: {y_pred}\")\n",
    "\n",
    "y = np.dot(x_test, sgd.coef_.T) + sgd.intercept_\n",
    "\n",
    "print(f\"Predicted value is: {y}\")"
   ],
   "execution_count":51,
   "outputs":[
    {
     "name":"stdout",
     "text":[
      "Weight used is: [-0.12770139 -0.06134126]\n",
      "Bias used is: [0.29144914]\n",
      "Predicted value is: [0.24224032 0.30893755 0.41610456 0.00501299 0.35666568 0.41973374]\n",
      "Predicted value is: [0.24224032 0.30893755 0.41610456 0.00501299 0.35666568 0.41973374]\n"
     ],
     "output_type":"stream"
    }
   ],
   "metadata":{
    "datalore":{
     "node_id":"V5v0EKMnPQfk4wrWiejO79",
     "type":"CODE",
     "hide_input_from_viewers":true,
     "hide_output_from_viewers":true
    }
   }
  },
  {
   "cell_type":"code",
   "source":[
    "# let's use sigmoid function to predict value of y\n",
    "\n",
    "\n",
    "y_sig = sigmoid_fn(y)\n",
    "\n",
    "print(f\"Predicted value is: {y_sig}\")"
   ],
   "execution_count":52,
   "outputs":[
    {
     "name":"stdout",
     "text":[
      "Predicted value is: [0.56026567 0.57662591 0.60255073 0.50125324 0.58823305 0.60341953]\n"
     ],
     "output_type":"stream"
    }
   ],
   "metadata":{
    "datalore":{
     "node_id":"bMtDjrULfnuOwabuWnKirw",
     "type":"CODE",
     "hide_input_from_viewers":true,
     "hide_output_from_viewers":true
    }
   }
  },
  {
   "cell_type":"code",
   "source":[
    "# let's plot distributed values of test y input to sigmoid function\n",
    "\n",
    "y_samp = np.arange(-10,11)\n",
    "\n",
    "sig_fn_res = sigmoid_fn(y_samp)\n",
    "\n",
    "# Decision boundary line\n",
    "decision_boundary = 0\n",
    "\n",
    "plt.plot(y_samp, sig_fn_res, marker=\"\", color=\"b\")\n",
    "# Add the vertical decision boundary line\n",
    "plt.axvline(x=decision_boundary, linestyle=\"--\", color=\"k\", label=\"Decision Boundary\")\n",
    "# Fill the regions left and right of the decision boundary\n",
    "# Fill the entire left side of the decision boundary as red and right side as green\n",
    "plt.fill_between(y_samp, 1, where=(y_samp <= decision_boundary), color='red', alpha=0.3, label=\"Left Side\")\n",
    "plt.fill_between(y_samp, 1, where=(y_samp >= decision_boundary), color='green', alpha=0.3, label=\"Right Side\")\n",
    "\n",
    "plt.title(\"Sigmoid function\")\n",
    "plt.ylabel('sigmoid(z)')\n",
    "plt.xlabel('z')"
   ],
   "execution_count":53,
   "outputs":[
    {
     "data":{
      "text\/plain":[
       "Text(0.5, 0, 'z')"
      ]
     },
     "metadata":{
      
     },
     "output_type":"display_data"
    },
    {
     "data":{
      "image\/png":"[encoded data removed]"
     },
     "metadata":{
      "image\/png":{
       
      }
     },
     "output_type":"display_data"
    }
   ],
   "metadata":{
    "datalore":{
     "node_id":"M4q1Tzlxry9cn2h4rA2hqu",
     "type":"CODE",
     "hide_input_from_viewers":true,
     "hide_output_from_viewers":true
    }
   }
  },
  {
   "cell_type":"code",
   "source":[
    
   ],
   "execution_count":null,
   "outputs":[
    
   ],
   "metadata":{
    "datalore":{
     "node_id":"Vq1K4P6TU2GWxEi9TLTQ3Z",
     "type":"CODE",
     "hide_input_from_viewers":true,
     "hide_output_from_viewers":true
    }
   }
  }
 ],
 "metadata":{
  "kernelspec":{
   "display_name":"Python",
   "language":"python",
   "name":"python"
  },
  "datalore":{
   "computation_mode":"JUPYTER",
   "package_manager":"pip",
   "base_environment":"default",
   "packages":[
    
   ],
   "report_row_ids":[
    
   ],
   "version":3
  }
 },
 "nbformat":4,
 "nbformat_minor":4
}