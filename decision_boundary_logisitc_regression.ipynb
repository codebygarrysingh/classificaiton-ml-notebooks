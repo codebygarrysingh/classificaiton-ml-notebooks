{
 "cells":[
  {
   "cell_type":"markdown",
   "source":[
    "**In this notebook we will plot the decision boundary for a logistic regression model**"
   ],
   "attachments":{
    
   },
   "metadata":{
    "datalore":{
     "node_id":"TEyvS3HKI5yRi52eNwuwQk",
     "type":"MD",
     "hide_input_from_viewers":true,
     "hide_output_from_viewers":true
    }
   }
  },
  {
   "cell_type":"code",
   "source":[
    "# let's import the required libraries\n",
    "\n",
    "import numpy as np\n",
    "from sklearn.linear_model import SGDRegressor\n",
    "from sklearn.preprocessing import StandardScaler\n",
    "import matplotlib as plt"
   ],
   "execution_count":31,
   "outputs":[
    
   ],
   "metadata":{
    "datalore":{
     "node_id":"iHICVlymtxqUOnlgXExsLv",
     "type":"CODE",
     "hide_input_from_viewers":true,
     "hide_output_from_viewers":true
    }
   }
  },
  {
   "cell_type":"code",
   "source":[
    "# let's define the sigmoid function\n",
    "\n",
    "def sigmoid_fn(z):\n",
    "\n",
    "    g = 1\/(1+np.exp(-z))\n",
    "\n",
    "    threshold = 0.5  # You can adjust this threshold\n",
    "    binary_prediction = (g >= threshold).astype(int)\n",
    "    return binary_prediction"
   ],
   "execution_count":46,
   "outputs":[
    
   ],
   "metadata":{
    "datalore":{
     "node_id":"ZhpISo2VoGxARr0E6n3zw8",
     "type":"CODE",
     "hide_input_from_viewers":true,
     "hide_output_from_viewers":true
    }
   }
  },
  {
   "cell_type":"code",
   "source":[
    "# let's define our training data set\n",
    "# Sample training data (input features X_train and corresponding labels y_train)\n",
    "x_train = np.array([\n",
    "    [3.2, 1.5],\n",
    "    [2.5, 2.8],\n",
    "    [1.9, 3.1],\n",
    "    [3.6, 4.0],\n",
    "    [2.8, 1.0],\n",
    "    [2.0, 2.7]\n",
    "])\n",
    "\n",
    "y_train = np.array([0, 1, 1, 0, 1, 0])  # Binary labels: 0 (class 0) and 1 (class 1)\n",
    "\n",
    "scaler = StandardScaler()\n",
    "X_train = scaler.fit_transform(x_train)\n",
    "\n",
    "sgd = SGDRegressor(max_iter=10000, alpha=0.0001)\n",
    "\n",
    "sgd.fit(X_train, y_train)\n",
    "\n",
    "x_test = np.array([   [3.2, 1.5],\n",
    "    [2.5, 2.8],\n",
    "    [1.9, 3.1],\n",
    "    [3.6, 4.0],\n",
    "    [2.8, 1.0],\n",
    "    [2.0, 2.7]])\n",
    "\n",
    "# Scale the test data using the same scaler\n",
    "x_test = scaler.fit_transform(x_test)\n",
    "\n",
    "y_pred = sgd.predict(x_test)\n",
    "\n",
    "print(f\"Weight used is: {sgd.coef_}\")\n",
    "print(f\"Bias used is: {sgd.intercept_}\")\n",
    "print(f\"Predicted value is: {y_pred}\")\n",
    "\n",
    "y = np.dot(x_test, sgd.coef_.T) + sgd.intercept_\n",
    "\n",
    "print(f\"Predicted value is: {y}\")\n",
    "\n",
    "# let's use the sigmoid function\n",
    "\n",
    "y_sig = sigmoid_fn(y)\n",
    "\n",
    "print(f\"Predicted value is: {y_sig}\")"
   ],
   "execution_count":48,
   "outputs":[
    {
     "name":"stdout",
     "text":[
      "Weight used is: [-0.12771331 -0.06258444]\n",
      "Bias used is: [0.29097704]\n",
      "Predicted value is: [0.24302292 0.30811613 0.41492154 0.00267681 0.35807829 0.41904652]\n",
      "Predicted value is: [0.24302292 0.30811613 0.41492154 0.00267681 0.35807829 0.41904652]\n",
      "Predicted value is: [1 1 1 1 1 1]\n"
     ],
     "output_type":"stream"
    }
   ],
   "metadata":{
    "datalore":{
     "node_id":"V5v0EKMnPQfk4wrWiejO79",
     "type":"CODE",
     "hide_input_from_viewers":true,
     "hide_output_from_viewers":true
    }
   }
  },
  {
   "cell_type":"code",
   "source":[
    "# let's use sigmoid function to predict value of y\n"
   ],
   "execution_count":null,
   "outputs":[
    
   ],
   "metadata":{
    "datalore":{
     "node_id":"bMtDjrULfnuOwabuWnKirw",
     "type":"CODE",
     "hide_input_from_viewers":true,
     "hide_output_from_viewers":true
    }
   }
  }
 ],
 "metadata":{
  "kernelspec":{
   "display_name":"Python",
   "language":"python",
   "name":"python"
  },
  "datalore":{
   "computation_mode":"JUPYTER",
   "package_manager":"pip",
   "base_environment":"default",
   "packages":[
    
   ],
   "report_row_ids":[
    
   ],
   "version":3
  }
 },
 "nbformat":4,
 "nbformat_minor":4
}