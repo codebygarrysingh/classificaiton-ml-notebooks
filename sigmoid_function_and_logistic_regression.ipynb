{
 "cells":[
  {
   "cell_type":"markdown",
   "source":[
    "**This notebook covers use of sigmoid function and logistic regression for classification ml use cases**"
   ],
   "attachments":{
    
   },
   "metadata":{
    "datalore":{
     "node_id":"Ar4IkAr3OD3ia2NlznTZ3M",
     "type":"MD",
     "hide_input_from_viewers":true,
     "hide_output_from_viewers":true
    }
   }
  },
  {
   "cell_type":"code",
   "source":[
    "# let's start by importing libraries\n",
    "\n",
    "import numpy as np\n",
    "import matplotlib.pyplot as plt\n",
    "from sklearn.linear_model import SGDClassifier \n",
    "from sklearn.preprocessing import StandardScaler "
   ],
   "execution_count":51,
   "outputs":[
    
   ],
   "metadata":{
    "datalore":{
     "node_id":"T7LLPYVq5CDPl6CoJZHLQy",
     "type":"CODE",
     "hide_input_from_viewers":true,
     "hide_output_from_viewers":true
    }
   }
  },
  {
   "cell_type":"markdown",
   "source":[
    "**We start off using the linear regression prediction function fwb = wx + b however, classification results are binary and we need to ensure that our prediction stays within 0 and 1 boundaries inclusive. So we are going to use the logistical regression that uses sigmoid function**\n",
    "\n",
    "**Sigmoid function is denoted by g and uses output of linear regression (z) to compute the logistical regression**\n",
    "\n",
    "z = 1\/1+e^-(fwb)"
   ],
   "attachments":{
    
   },
   "metadata":{
    "datalore":{
     "node_id":"QfSzc7W0IdZz7MRXgk9RhL",
     "type":"MD",
     "hide_input_from_viewers":true,
     "hide_output_from_viewers":true
    }
   }
  },
  {
   "cell_type":"code",
   "source":[
    "# numpy has a built in function exp to calculate the exponential value like e^z\n",
    "\n",
    "input_array = np.array([1,2,3])\n",
    "exp_array = np.exp(input_array)\n",
    "\n",
    "print(f\"Input array is: {input_array}\")\n",
    "print(f\"Exp array is: {exp_array}\")\n",
    "\n",
    "# let's try when the input is a single number\n",
    "\n",
    "input = -10\n",
    "exp = np.exp(input)\n",
    "\n",
    "print(f\"Input is: {input}\")\n",
    "print(f\"Exp is: {exp}\")"
   ],
   "execution_count":37,
   "outputs":[
    {
     "name":"stdout",
     "text":[
      "Input array is: [1 2 3]\n",
      "Exp array is: [ 2.718  7.389 20.086]\n",
      "Input is: -10\n",
      "Exp is: 4.5399929762484854e-05\n"
     ],
     "output_type":"stream"
    }
   ],
   "metadata":{
    "datalore":{
     "node_id":"HRSoVThOrdsPuFpk0Eate6",
     "type":"CODE",
     "hide_input_from_viewers":true,
     "hide_output_from_viewers":true
    }
   }
  },
  {
   "cell_type":"code",
   "source":[
    "# now let's define the implementation of sigmoid function in python\n",
    "\n",
    "def sigmoid_fn(z):\n",
    "\n",
    "    g = 1\/(1+np.exp(-z))\n",
    "\n",
    "    return g"
   ],
   "execution_count":38,
   "outputs":[
    
   ],
   "metadata":{
    "datalore":{
     "node_id":"xn6DcBzFd8KdncPONNE2LZ",
     "type":"CODE",
     "hide_input_from_viewers":true,
     "hide_output_from_viewers":true
    }
   }
  },
  {
   "cell_type":"code",
   "source":[
    "# now let's compute output of the sigmoid function with some test data\n",
    "\n",
    "z_tmp = np.arange(-10,11)\n",
    "\n",
    "y = sigmoid_fn(z_tmp)\n",
    "\n",
    "np.set_printoptions(precision=3)\n",
    "\n",
    "print(f\"Input data is: {z_tmp}\\n\")\n",
    "print(f\"Output data is: {y}\\n\")\n",
    "\n",
    "# using _c function to concatenate arrays along columns\n",
    "\n",
    "print(f\"Input and output data is : \\n {np.c_[z_tmp,y]}\")"
   ],
   "execution_count":39,
   "outputs":[
    {
     "name":"stdout",
     "text":[
      "Input data is: [-10  -9  -8  -7  -6  -5  -4  -3  -2  -1   0   1   2   3   4   5   6   7\n",
      "   8   9  10]\n",
      "\n",
      "Output data is: [4.540e-05 1.234e-04 3.354e-04 9.111e-04 2.473e-03 6.693e-03 1.799e-02\n",
      " 4.743e-02 1.192e-01 2.689e-01 5.000e-01 7.311e-01 8.808e-01 9.526e-01\n",
      " 9.820e-01 9.933e-01 9.975e-01 9.991e-01 9.997e-01 9.999e-01 1.000e+00]\n",
      "\n",
      "Input and output data is : \n",
      " [[-1.000e+01  4.540e-05]\n",
      " [-9.000e+00  1.234e-04]\n",
      " [-8.000e+00  3.354e-04]\n",
      " [-7.000e+00  9.111e-04]\n",
      " [-6.000e+00  2.473e-03]\n",
      " [-5.000e+00  6.693e-03]\n",
      " [-4.000e+00  1.799e-02]\n",
      " [-3.000e+00  4.743e-02]\n",
      " [-2.000e+00  1.192e-01]\n",
      " [-1.000e+00  2.689e-01]\n",
      " [ 0.000e+00  5.000e-01]\n",
      " [ 1.000e+00  7.311e-01]\n",
      " [ 2.000e+00  8.808e-01]\n",
      " [ 3.000e+00  9.526e-01]\n",
      " [ 4.000e+00  9.820e-01]\n",
      " [ 5.000e+00  9.933e-01]\n",
      " [ 6.000e+00  9.975e-01]\n",
      " [ 7.000e+00  9.991e-01]\n",
      " [ 8.000e+00  9.997e-01]\n",
      " [ 9.000e+00  9.999e-01]\n",
      " [ 1.000e+01  1.000e+00]]\n"
     ],
     "output_type":"stream"
    }
   ],
   "metadata":{
    "datalore":{
     "node_id":"KvFxwUDiV9j85Zd3rCyHqx",
     "type":"CODE",
     "hide_input_from_viewers":true,
     "hide_output_from_viewers":true
    }
   }
  },
  {
   "cell_type":"code",
   "source":[
    "# now let's plot these values on a graph\n",
    "\n",
    "plt.plot(z_tmp, y, marker=\"\", color=\"b\")\n",
    "plt.title(\"Plot between linear function output (z) & Sigmoid function output (y)\")\n",
    "plt.xlabel(\"Linear function output (z)\")\n",
    "plt.ylabel(\"Sigmoid function output (y)\")\n",
    "plt.show()"
   ],
   "execution_count":40,
   "outputs":[
    {
     "data":{
      "image\/png":"[encoded data removed]"
     },
     "metadata":{
      "image\/png":{
       
      }
     },
     "output_type":"display_data"
    }
   ],
   "metadata":{
    "datalore":{
     "node_id":"homTCQ6MLJwcXgU88uqF4a",
     "type":"CODE",
     "hide_input_from_viewers":true,
     "hide_output_from_viewers":true
    }
   }
  },
  {
   "cell_type":"code",
   "source":[
    "# now let's evaluate some individual examples to draw relation between increasing and decreasing z values\n",
    "# if we predicted values from linear regression as a positive number then the exponential function would negate it and compute a very small exponential result that will produce a sigmoid function output closer to 1\n",
    "# if we predicted values from linear regression as a negative number then the exponential function would make it positive and compute a very large exponential result that will produce a very small close to 0 output\n",
    "\n",
    "inp_tmp = -100\n",
    "exp_tmp = np.exp(-inp_tmp)\n",
    "y_tmp = sigmoid_fn(inp_tmp)\n",
    "\n",
    "print(f\"Input is: {inp_tmp}\\n\")\n",
    "print(f\"Exp is: {exp_tmp:0.6f}\\n\")\n",
    "print(f\"Sigmoid fn is: {y_tmp:0.6f}\\n\")"
   ],
   "execution_count":41,
   "outputs":[
    {
     "name":"stdout",
     "text":[
      "Input is: -100\n",
      "\n",
      "Exp is: 26881171418161356094253400435962903554686976.000000\n",
      "\n",
      "Sigmoid fn is: 0.000000\n",
      "\n"
     ],
     "output_type":"stream"
    }
   ],
   "metadata":{
    "datalore":{
     "node_id":"3i2p1kWYKf3V4gBWoyIMhZ",
     "type":"CODE",
     "hide_input_from_viewers":true,
     "hide_output_from_viewers":true
    }
   }
  },
  {
   "cell_type":"code",
   "source":[
    "# now let's take some training data and compute the logistical regression based on that\n",
    "\n",
    "x_train = np.array([0., 1000, 2000, 3000, 4000, 5000])\n",
    "y_train = np.array([0,  0, 0, 1, 1, 1])\n",
    "\n",
    "scaler = StandardScaler()\n",
    "\n",
    "X_train = scaler.fit_transform(x_train.reshape(-1,1))\n",
    "\n",
    "clf = SGDClassifier(max_iter=1000, alpha=0.0001)\n",
    "\n",
    "clf.fit(X_train, y_train)\n",
    "\n",
    "X_test = np.array([-1500, -500, 0, 500, 1500])\n",
    "\n",
    "y_pred = clf.predict(X_test.reshape(-1,1))\n",
    "\n",
    "print(f\"X train data is: {X_train}\")\n",
    "print(f\"Y predict value is: {y_pred}\")\n",
    "\n",
    "# now let's compute the sigmoid function for the predicted y\n",
    "\n",
    "y_pred_sig = sigmoid_fn(y_pred)\n",
    "print(f\"Y predict value from sigmoid fn is: {y_pred_sig}\")\n",
    "\n",
    "# let's create two plots one from linear regression and one from sigmoid function\n",
    "\n",
    "plt.plot(x_train, y_train, marker=\"x\", color=\"b\")\n",
    "plt.xlabel(\"x training data\")\n",
    "plt.xlabel(\"y predicted value\")\n",
    "plt.title(\"Linear regression prediction\")\n",
    "plt.show() \n",
    "\n",
    "plt.plot(X_test, y_pred_sig, marker=\"x\", color=\"b\")\n",
    "plt.xlabel(\"x training data\")\n",
    "plt.xlabel(\"y predicted value\")\n",
    "plt.title(\"Logistical regression prediction\")\n",
    "plt.show()"
   ],
   "execution_count":75,
   "outputs":[
    {
     "name":"stdout",
     "text":[
      "X train data is: [[-1.464]\n",
      " [-0.878]\n",
      " [-0.293]\n",
      " [ 0.293]\n",
      " [ 0.878]\n",
      " [ 1.464]]\n",
      "Y predict value is: [0 0 1 1 1]\n",
      "Y predict value from sigmoid fn is: [0.5   0.5   0.731 0.731 0.731]\n"
     ],
     "output_type":"stream"
    },
    {
     "data":{
      "image\/png":"[encoded data removed]"
     },
     "metadata":{
      "image\/png":{
       
      }
     },
     "output_type":"display_data"
    },
    {
     "data":{
      "image\/png":"[encoded data removed]"
     },
     "metadata":{
      "image\/png":{
       
      }
     },
     "output_type":"display_data"
    }
   ],
   "metadata":{
    "datalore":{
     "node_id":"9C65gj7BGBqFdGSjYeQsBA",
     "type":"CODE",
     "hide_input_from_viewers":true,
     "hide_output_from_viewers":true
    }
   }
  },
  {
   "cell_type":"code",
   "source":[
    
   ],
   "execution_count":null,
   "outputs":[
    
   ],
   "metadata":{
    "datalore":{
     "node_id":"HO1HolGGk6MHMfMKRNckKL",
     "type":"CODE",
     "hide_input_from_viewers":true,
     "hide_output_from_viewers":true
    }
   }
  },
  {
   "cell_type":"code",
   "source":[
    
   ],
   "execution_count":null,
   "outputs":[
    
   ],
   "metadata":{
    "datalore":{
     "node_id":"KoBzy9dTWQEoYI2JJ4H0Ya",
     "type":"CODE",
     "hide_input_from_viewers":true,
     "hide_output_from_viewers":true
    }
   }
  }
 ],
 "metadata":{
  "kernelspec":{
   "display_name":"Python",
   "language":"python",
   "name":"python"
  },
  "datalore":{
   "computation_mode":"JUPYTER",
   "package_manager":"pip",
   "base_environment":"default",
   "packages":[
    
   ],
   "report_row_ids":[
    
   ],
   "version":3
  }
 },
 "nbformat":4,
 "nbformat_minor":4
}