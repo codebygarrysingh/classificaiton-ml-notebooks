{
 "cells":[
  {
   "cell_type":"markdown",
   "source":[
    "**This notebook covers gradient descent for logistic regression**"
   ],
   "attachments":{
    
   },
   "metadata":{
    "datalore":{
     "node_id":"RQCb6gpYUVnpEVk6Vdve7Y",
     "type":"MD",
     "hide_input_from_viewers":true,
     "hide_output_from_viewers":true
    }
   }
  },
  {
   "cell_type":"code",
   "source":[
    "# let's import the required set of libraries\n",
    "\n",
    "import numpy as np\n",
    "import matplotlib.pyplot as plt\n",
    "import math, copy\n"
   ],
   "execution_count":1,
   "outputs":[
    
   ],
   "metadata":{
    "datalore":{
     "node_id":"3NY0JqPGmJTjMlYmxOX9I1",
     "type":"CODE",
     "hide_input_from_viewers":true,
     "hide_output_from_viewers":true
    }
   }
  },
  {
   "cell_type":"code",
   "source":[
    "# let's define our training data set\n",
    "\n",
    "X_train = np.array([[0.5, 1.5], [1,1], [1.5, 0.5], [3, 0.5], [2, 2], [1, 2.5]])\n",
    "y_train = np.array([0, 0, 0, 1, 1, 1])"
   ],
   "execution_count":2,
   "outputs":[
    
   ],
   "metadata":{
    "datalore":{
     "node_id":"KWbcMYFzpyYGkBcqhAj2tf",
     "type":"CODE",
     "hide_input_from_viewers":true,
     "hide_output_from_viewers":true
    }
   }
  },
  {
   "cell_type":"code",
   "source":[
    "# let's plot the training data set \n",
    "\n",
    "# Define custom colors for classes (0 and 1)\n",
    "colors = ['red' if label == 0 else 'blue' for label in y_train]\n",
    "\n",
    "# Create a scatter plot with custom marker colors\n",
    "plt.scatter(X_train[:,0], X_train[:,1], c=colors, marker='x', s=100)  # Adjust marker and size as needed\n",
    "\n",
    "plt.xlabel(\"training data feature 1\")\n",
    "plt.ylabel(\"training data feature 2\")\n",
    "plt.title(\"Decision boundary graph\")\n",
    "plt.show()"
   ],
   "execution_count":3,
   "outputs":[
    {
     "data":{
      "image\/png":"[encoded data removed]"
     },
     "metadata":{
      "image\/png":{
       
      }
     },
     "output_type":"display_data"
    }
   ],
   "metadata":{
    "datalore":{
     "node_id":"xyIwZtybWxgbzbwWXJxHH0",
     "type":"CODE",
     "hide_input_from_viewers":true,
     "hide_output_from_viewers":true
    }
   }
  },
  {
   "cell_type":"code",
   "source":[
    "# now let's define the sigmoid function\n",
    "\n",
    "def sig_fn(z):\n",
    "    g = 1\/(1+np.exp(-z))\n",
    "    return g"
   ],
   "execution_count":4,
   "outputs":[
    
   ],
   "metadata":{
    "datalore":{
     "node_id":"kDD2XUdbmOBAt4r6pGiaZd",
     "type":"CODE",
     "hide_input_from_viewers":true,
     "hide_output_from_viewers":true
    }
   }
  },
  {
   "cell_type":"code",
   "source":[
    "# now let's define the compute gradient function\n",
    "\n",
    "def compute_gradient_logistic(x,y,w,b):\n",
    "\n",
    "    size_x = x.shape[0]\n",
    "    features_x = x.shape[1]\n",
    "    der_db = 0\n",
    "    der_dw = np.zeros(w.shape[0])\n",
    "    for i in range(size_x):\n",
    "        pred_y = np.dot(x[i], w) + b\n",
    "        pred_y_sig = sig_fn(pred_y)\n",
    "        diff = pred_y_sig - y[i]\n",
    "        for j in range(features_x):\n",
    "            der_dw[j] += diff * x[i,j]\n",
    "        der_db += diff\n",
    "\n",
    "    der_db = der_db\/size_x\n",
    "    der_dw = der_dw\/size_x\n",
    "\n",
    "    return der_db, der_dw"
   ],
   "execution_count":5,
   "outputs":[
    
   ],
   "metadata":{
    "datalore":{
     "node_id":"35gSsBkYXM16gIpuDt9yTt",
     "type":"CODE",
     "hide_input_from_viewers":true,
     "hide_output_from_viewers":true
    }
   }
  },
  {
   "cell_type":"code",
   "source":[
    "# now let's put our compute gradient logistic function to test\n",
    "\n",
    "X_tmp = np.array([[0.5, 1.5], [1,1], [1.5, 0.5], [3, 0.5], [2, 2], [1, 2.5]])\n",
    "y_tmp = np.array([0, 0, 0, 1, 1, 1])\n",
    "w_tmp = np.array([2.,3.])\n",
    "b_tmp = 1.\n",
    "dj_db_tmp, dj_dw_tmp = compute_gradient_logistic(X_tmp, y_tmp, w_tmp, b_tmp)\n",
    "print(f\"dj_db: {dj_db_tmp}\" )\n",
    "print(f\"dj_dw: {dj_dw_tmp.tolist()}\" )"
   ],
   "execution_count":6,
   "outputs":[
    {
     "name":"stdout",
     "text":[
      "dj_db: 0.49861806546328574\n",
      "dj_dw: [0.498333393278696, 0.49883942983996693]\n"
     ],
     "output_type":"stream"
    }
   ],
   "metadata":{
    "datalore":{
     "node_id":"KTWQ2RIVR0VDudsbWJvQed",
     "type":"CODE",
     "hide_input_from_viewers":true,
     "hide_output_from_viewers":true
    }
   }
  },
  {
   "cell_type":"code",
   "source":[
    "# let's define compute cost logistic function \n",
    "\n",
    "def compute_cost_logistic(x,y,w,b):\n",
    "\n",
    "    size_x = x.shape[0]\n",
    "    #epsilon = 1e-15  # Small positive value to avoid log(0) and log(1)\n",
    "    cost = 0\n",
    "    for i in range(size_x):\n",
    "        pred_y = np.dot(x[i], w) +b\n",
    "        pred_sig_fn = sig_fn(pred_y)\n",
    "        #pred_sig_fn = np.clip(pred_sig_fn, epsilon, 1 - epsilon)\n",
    "        loss = -y[i]*np.log(pred_sig_fn) - (1-y[i])*np.log(1-pred_sig_fn)\n",
    "        cost += loss\n",
    "\n",
    "    cost = cost\/size_x\n",
    "\n",
    "    return cost\n",
    "\n"
   ],
   "execution_count":10,
   "outputs":[
    
   ],
   "metadata":{
    "datalore":{
     "node_id":"tSL0PLm267gpnSsvIxjkLY",
     "type":"CODE",
     "hide_input_from_viewers":true,
     "hide_output_from_viewers":true
    }
   }
  },
  {
   "cell_type":"code",
   "source":[
    "# now let's further write the run gradient descent function \n",
    "\n",
    "def run_gradient_descent(x,y,w,b,iter,alpha):\n",
    "\n",
    "    size_x = x.shape[0]\n",
    "    features_x = x.shape[1]\n",
    "\n",
    "    w_tmp = copy.deepcopy(w)\n",
    "    b_tmp = b\n",
    "\n",
    "    cost_hist = []\n",
    "\n",
    "    for i in range(iter):\n",
    "        dj_db, dj_dw = compute_gradient_logistic(x, y, w_tmp, b_tmp)\n",
    "        w_tmp = w_tmp - alpha * dj_dw\n",
    "        b_tmp = b_tmp - alpha * dj_db\n",
    "\n",
    "        # Save cost J at each iteration\n",
    "        if i<100000:      # prevent resource exhaustion \n",
    "            cost_hist.append( compute_cost_logistic(x,y,w_tmp,b_tmp) )\n",
    "\n",
    "        # Print cost every at intervals 10 times or as many iterations if < 10\n",
    "        if i% math.ceil(iter \/ 10) == 0:\n",
    "            print(f\"Iteration {i:4d}: Cost {cost_hist[-1]}   \")\n",
    "        \n",
    "        if cost_hist[i]>cost_hist[i-1]:\n",
    "            break\n",
    "    \n",
    "    return w_tmp, b_tmp, cost_hist\n"
   ],
   "execution_count":15,
   "outputs":[
    
   ],
   "metadata":{
    "datalore":{
     "node_id":"2n0LrafHgypmPARdgcLhYw",
     "type":"CODE",
     "hide_input_from_viewers":true,
     "hide_output_from_viewers":true
    }
   }
  },
  {
   "cell_type":"code",
   "source":[
    "# now let's put our run gradient descent function to test\n",
    "X_train = np.array([[0.5, 1.5], [1,1], [1.5, 0.5], [3, 0.5], [2, 2], [1, 2.5]])\n",
    "y_train = np.array([0, 0, 0, 1, 1, 1])\n",
    "w_tmp  = np.zeros_like(X_train[0])\n",
    "b_tmp  = 0.\n",
    "alph = 0.1\n",
    "iters = 10000\n",
    "\n",
    "w_out, b_out, _ = run_gradient_descent(X_train, y_train, w_tmp, b_tmp, iters, alph) \n",
    "print(f\"\\nupdated parameters: w:{w_out}, b:{b_out}\")"
   ],
   "execution_count":16,
   "outputs":[
    {
     "name":"stdout",
     "text":[
      "Iteration    0: Cost 0.684610468560574   \n",
      "Iteration 1000: Cost 0.1590977666870457   \n",
      "Iteration 2000: Cost 0.08460064176930078   \n",
      "Iteration 3000: Cost 0.05705327279402531   \n",
      "Iteration 4000: Cost 0.04290759421682   \n",
      "Iteration 5000: Cost 0.03433847729884557   \n",
      "Iteration 6000: Cost 0.02860379802212006   \n",
      "Iteration 7000: Cost 0.02450156960879306   \n",
      "Iteration 8000: Cost 0.02142370332569295   \n",
      "Iteration 9000: Cost 0.019030137124109114   \n",
      "\n",
      "updated parameters: w:[5.28123029 5.07815608], b:-14.222409982019837\n"
     ],
     "output_type":"stream"
    }
   ],
   "metadata":{
    "datalore":{
     "node_id":"rkofCx4rusJixGI0XqYgDi",
     "type":"CODE",
     "hide_input_from_viewers":true,
     "hide_output_from_viewers":true
    }
   }
  },
  {
   "cell_type":"code",
   "source":[
    
   ],
   "execution_count":null,
   "outputs":[
    
   ],
   "metadata":{
    "datalore":{
     "node_id":"9RYszLM7OqUKcPqA2GISSK",
     "type":"CODE",
     "hide_input_from_viewers":true,
     "hide_output_from_viewers":true
    }
   }
  }
 ],
 "metadata":{
  "kernelspec":{
   "display_name":"Python",
   "language":"python",
   "name":"python"
  },
  "datalore":{
   "computation_mode":"JUPYTER",
   "package_manager":"pip",
   "base_environment":"default",
   "packages":[
    
   ],
   "report_row_ids":[
    
   ],
   "version":3
  }
 },
 "nbformat":4,
 "nbformat_minor":4
}